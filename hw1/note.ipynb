{
 "cells": [
  {
   "cell_type": "markdown",
   "metadata": {},
   "source": [
    "# DIP Homework 1"
   ]
  },
  {
   "cell_type": "code",
   "execution_count": null,
   "metadata": {},
   "outputs": [],
   "source": [
    "import cv2\n",
    "import matplotlib.pyplot as plt\n",
    "import numpy as np\n",
    "import os.path as osp"
   ]
  },
  {
   "cell_type": "markdown",
   "metadata": {},
   "source": [
    "## Read / Write image"
   ]
  },
  {
   "cell_type": "code",
   "execution_count": null,
   "metadata": {},
   "outputs": [],
   "source": [
    "def read_image(path):\n",
    "    return cv2.cvtColor(cv2.imread(path), cv2.COLOR_BGR2RGB)\n",
    "\n",
    "def write_image(path, img):\n",
    "    cv2.imwrite(path, cv2.cvtColor(img, cv2.COLOR_RGB2BGR))"
   ]
  },
  {
   "cell_type": "markdown",
   "metadata": {},
   "source": [
    "## Scaling image"
   ]
  },
  {
   "cell_type": "code",
   "execution_count": null,
   "metadata": {},
   "outputs": [],
   "source": [
    "methods = {\n",
    "    'linear': cv2.INTER_LINEAR,\n",
    "    'cubic': cv2.INTER_CUBIC\n",
    "}\n",
    "\n",
    "\n",
    "def resize_image(img, scale, method='linear'):\n",
    "    oh, ow, c = img.shape  # original size\n",
    "    nw, nh = int(ow * scale), int(oh * scale)  # new size\n",
    "    \n",
    "    if method in methods:\n",
    "        return cv2.resize(img, (nw, nh), interpolation=methods[method])\n",
    "    \n",
    "    else:\n",
    "        print('unknown method:', method)\n",
    "        return img"
   ]
  },
  {
   "cell_type": "markdown",
   "metadata": {},
   "source": [
    "## Display result"
   ]
  },
  {
   "cell_type": "code",
   "execution_count": null,
   "metadata": {},
   "outputs": [],
   "source": [
    "def display_images(imgs, titles, ds=20):\n",
    "    if len(imgs) == len(titles) and len(imgs) > 0:\n",
    "        h, w, c = imgs[0].shape\n",
    "        \n",
    "        nrows = 1\n",
    "        ncols = len(imgs)\n",
    "        \n",
    "        dh, dw = 1 * ds * nrows, w / h * ds * ncols  # display size for each image in inches\n",
    "        \n",
    "        fig, axes = plt.subplots(nrows, ncols, figsize=(dh, dw))\n",
    "\n",
    "        for ax, img, title in zip(axes, imgs, titles):\n",
    "            ax.imshow(img)\n",
    "            ax.set_title(title)\n",
    "\n",
    "        fig.show()"
   ]
  },
  {
   "cell_type": "code",
   "execution_count": null,
   "metadata": {},
   "outputs": [],
   "source": [
    "def demo():\n",
    "    path = \"selfie.jpg\"\n",
    "    name, ext = osp.splitext(path)\n",
    "    \n",
    "    methods = [\"linear\", \"cubic\"]\n",
    "    scales = [0.2, 3.0, 10.0]\n",
    "    \n",
    "    img = read_image(path)\n",
    "    \n",
    "    for method in methods:\n",
    "        for scale in scales:\n",
    "            scaled_img = resize_image(img, scale, method)\n",
    "            save_path = '-'.join([name, method, '%.1f' % scale]) + ext\n",
    "            write_image(save_path, scaled_img)"
   ]
  },
  {
   "cell_type": "code",
   "execution_count": null,
   "metadata": {},
   "outputs": [],
   "source": [
    "demo()"
   ]
  }
 ],
 "metadata": {
  "kernelspec": {
   "display_name": "Python 3.7.2",
   "language": "python",
   "name": "python3.7"
  },
  "language_info": {
   "codemirror_mode": {
    "name": "ipython",
    "version": 3
   },
   "file_extension": ".py",
   "mimetype": "text/x-python",
   "name": "python",
   "nbconvert_exporter": "python",
   "pygments_lexer": "ipython3",
   "version": "3.7.2"
  }
 },
 "nbformat": 4,
 "nbformat_minor": 4
}
