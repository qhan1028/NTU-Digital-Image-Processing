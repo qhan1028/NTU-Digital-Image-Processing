{
 "cells": [
  {
   "cell_type": "markdown",
   "metadata": {},
   "source": [
    "# Mesh Flow Video Stabilization\n",
    "* Repository - https://github.com/qhan1028/Mesh-Flow-Video-Stabilization"
   ]
  },
  {
   "cell_type": "markdown",
   "metadata": {},
   "source": [
    "## 0. Import Modules"
   ]
  },
  {
   "cell_type": "code",
   "execution_count": null,
   "metadata": {
    "pycharm": {
     "is_executing": false
    }
   },
   "outputs": [],
   "source": [
    "from src.stabilization import main, parser\n",
    "import os\n",
    "import os.path as osp"
   ]
  },
  {
   "cell_type": "code",
   "execution_count": null,
   "metadata": {},
   "outputs": [],
   "source": [
    "video_path = \"data/small-shaky-5.avi\"\n",
    "result_path = \"result/offline/\""
   ]
  },
  {
   "cell_type": "markdown",
   "metadata": {},
   "source": [
    "## 1. Example Usage"
   ]
  },
  {
   "cell_type": "code",
   "execution_count": 3,
   "metadata": {},
   "outputs": [
    {
     "name": "stdout",
     "output_type": "stream",
     "text": [
      "[I 2020-01-08 02:42:56 meshflow] ../data/small-shaky-5.avi\n"
     ]
    },
    {
     "name": "stderr",
     "output_type": "stream",
     "text": [
      "read      : 100%|███████████████████████████████████████████████▊| 209/210 [00:01<00:00, 134.59it/s]\n",
      "optimize  : 100%|████████████████████████████████████████████████| 220/220 [00:01<00:00, 123.10it/s]\n",
      "optimize  : 100%|████████████████████████████████████████████████| 220/220 [00:01<00:00, 123.16it/s]\n",
      "write     : 100%|█████████████████████████████████████████████████| 210/210 [00:02<00:00, 85.49it/s]"
     ]
    },
    {
     "name": "stdout",
     "output_type": "stream",
     "text": [
      "[I 2020-01-08 02:43:04 meshflow] time elapsed (s): 7.68\n"
     ]
    },
    {
     "name": "stderr",
     "output_type": "stream",
     "text": [
      "\n"
     ]
    }
   ],
   "source": [
    "args = parser.parse_args([video_path, result_path])\n",
    "main(args)"
   ]
  },
  {
   "cell_type": "markdown",
   "metadata": {},
   "source": [
    "## 2. Bottleneck Testing"
   ]
  },
  {
   "cell_type": "markdown",
   "metadata": {},
   "source": [
    "### Original Method"
   ]
  },
  {
   "cell_type": "code",
   "execution_count": 4,
   "metadata": {},
   "outputs": [
    {
     "name": "stdout",
     "output_type": "stream",
     "text": [
      "[I 2020-01-08 02:43:04 meshflow] ../data/small-shaky-5.avi\n",
      "read (ms) : frame  210, cap  1.00, features  1.00, optical  0.00, motion 108.71, expand  0.00, profiles  0.00, total 110.70    \n",
      "[I 2020-01-08 02:43:24 meshflow] read time (s): cap  0.04, features  0.18, optical  0.04, motion 19.45, expand  0.02, profiles  0.02, total 19.75\n"
     ]
    },
    {
     "name": "stderr",
     "output_type": "stream",
     "text": [
      "optimize  : 100%|████████████████████████████████████████████████| 220/220 [00:01<00:00, 122.01it/s]\n",
      "optimize  : 100%|████████████████████████████████████████████████| 220/220 [00:01<00:00, 122.48it/s]\n"
     ]
    },
    {
     "name": "stdout",
     "output_type": "stream",
     "text": [
      "write (ms): frame  210, cap  0.00, warp 149.60, resize  1.00, write  1.00, total 151.59    \n",
      "[I 2020-01-08 02:43:59 meshflow] write time (s): cap  0.03, warp 31.42, resize  0.04, write  0.23, total 31.71\n",
      "[I 2020-01-08 02:43:59 meshflow] time elapsed (s): 55.24\n"
     ]
    }
   ],
   "source": [
    "args = parser.parse_args([\n",
    "    video_path, result_path,\n",
    "    \"--debug\", \"--slow\"\n",
    "])\n",
    "main(args)"
   ]
  },
  {
   "cell_type": "markdown",
   "metadata": {},
   "source": [
    "### Improved Method"
   ]
  },
  {
   "cell_type": "code",
   "execution_count": 5,
   "metadata": {},
   "outputs": [
    {
     "name": "stdout",
     "output_type": "stream",
     "text": [
      "[I 2020-01-08 02:43:59 meshflow] ../data/small-shaky-5.avi\n",
      "read (ms) : frame  210, cap  0.00, features  1.00, optical  0.00, motion  6.98, expand  0.00, profiles  0.00, total  7.98    \n",
      "[I 2020-01-08 02:44:01 meshflow] read time (s): cap  0.04, features  0.16, optical  0.04, motion  1.25, expand  0.01, profiles  0.01, total  1.51\n"
     ]
    },
    {
     "name": "stderr",
     "output_type": "stream",
     "text": [
      "optimize  : 100%|████████████████████████████████████████████████| 220/220 [00:01<00:00, 122.96it/s]\n",
      "optimize  : 100%|████████████████████████████████████████████████| 220/220 [00:01<00:00, 123.23it/s]\n"
     ]
    },
    {
     "name": "stdout",
     "output_type": "stream",
     "text": [
      "write (ms): frame  210, cap  0.00, warp 10.97, resize  0.00, write  1.00, total 11.97    \n",
      "[I 2020-01-08 02:44:07 meshflow] write time (s): cap  0.03, warp  2.13, resize  0.04, write  0.21, total  2.42\n",
      "[I 2020-01-08 02:44:07 meshflow] time elapsed (s): 7.63\n"
     ]
    }
   ],
   "source": [
    "args = parser.parse_args([\n",
    "    video_path, result_path,\n",
    "    \"--debug\"\n",
    "])\n",
    "main(args)"
   ]
  },
  {
   "cell_type": "markdown",
   "metadata": {},
   "source": [
    "## 3. Process All Data"
   ]
  },
  {
   "cell_type": "markdown",
   "metadata": {},
   "source": [
    "### Original Method"
   ]
  },
  {
   "cell_type": "code",
   "execution_count": 6,
   "metadata": {},
   "outputs": [
    {
     "name": "stdout",
     "output_type": "stream",
     "text": [
      "[I 2020-01-08 02:44:07 meshflow] ../data\\parallax.avi\n"
     ]
    },
    {
     "name": "stderr",
     "output_type": "stream",
     "text": [
      "read      : 100%|████████████████████████████████████████████████▉| 524/525 [08:52<00:01,  1.02s/it]\n",
      "optimize  : 100%|████████████████████████████████████████████████| 880/880 [00:07<00:00, 112.10it/s]\n",
      "optimize  : 100%|████████████████████████████████████████████████| 880/880 [00:07<00:00, 112.07it/s]\n",
      "write     : 100%|█████████████████████████████████████████████████| 525/525 [05:42<00:00,  1.53it/s]"
     ]
    },
    {
     "name": "stdout",
     "output_type": "stream",
     "text": [
      "[I 2020-01-08 02:58:57 meshflow] time elapsed (s): 890.62\n",
      "\n",
      "[I 2020-01-08 02:58:57 meshflow] ../data\\running.avi\n"
     ]
    },
    {
     "name": "stderr",
     "output_type": "stream",
     "text": [
      "\n",
      "read      :  99%|████████████████████████████████████████████████▋| 446/449 [06:14<00:02,  1.19it/s]\n",
      "optimize  : 100%|████████████████████████████████████████████████| 880/880 [00:07<00:00, 115.92it/s]\n",
      "optimize  : 100%|████████████████████████████████████████████████| 880/880 [00:07<00:00, 115.78it/s]\n",
      "write     : 100%|████████████████████████████████████████████████▊| 447/449 [04:54<00:01,  1.52it/s]"
     ]
    },
    {
     "name": "stdout",
     "output_type": "stream",
     "text": [
      "[I 2020-01-08 03:10:22 meshflow] time elapsed (s): 684.08\n",
      "\n",
      "[I 2020-01-08 03:10:22 meshflow] ../data\\sample.avi\n"
     ]
    },
    {
     "name": "stderr",
     "output_type": "stream",
     "text": [
      "\n",
      "read      :  99%|████████████████████████████████████████████████▋| 398/401 [02:38<00:01,  2.52it/s]\n",
      "optimize  : 100%|████████████████████████████████████████████████| 880/880 [00:07<00:00, 117.09it/s]\n",
      "optimize  : 100%|████████████████████████████████████████████████| 880/880 [00:07<00:00, 117.46it/s]\n",
      "write     : 100%|████████████████████████████████████████████████▊| 399/401 [04:15<00:01,  1.56it/s]"
     ]
    },
    {
     "name": "stdout",
     "output_type": "stream",
     "text": [
      "[I 2020-01-08 03:17:30 meshflow] time elapsed (s): 428.36\n",
      "\n",
      "[I 2020-01-08 03:17:30 meshflow] ../data\\selfie.mp4\n"
     ]
    },
    {
     "name": "stderr",
     "output_type": "stream",
     "text": [
      "\n",
      "read      :  92%|█████████████████████████████████████████████    | 159/173 [02:30<00:13,  1.05it/s]\n",
      "optimize  : 100%|██████████████████████████████████████████████| 1590/1590 [00:12<00:00, 124.36it/s]\n",
      "optimize  : 100%|██████████████████████████████████████████████| 1590/1590 [00:12<00:00, 123.83it/s]\n",
      "write     :  92%|█████████████████████████████████████████████▎   | 160/173 [03:14<00:15,  1.22s/it]"
     ]
    },
    {
     "name": "stdout",
     "output_type": "stream",
     "text": [
      "[I 2020-01-08 03:23:41 meshflow] time elapsed (s): 371.21\n",
      "\n",
      "[I 2020-01-08 03:23:41 meshflow] ../data\\shaky-5.avi\n"
     ]
    },
    {
     "name": "stderr",
     "output_type": "stream",
     "text": [
      "\n",
      "read      : 100%|████████████████████████████████████████████████▉| 495/496 [05:52<00:00,  1.40it/s]\n",
      "optimize  : 100%|████████████████████████████████████████████████| 880/880 [00:07<00:00, 114.65it/s]\n",
      "optimize  : 100%|████████████████████████████████████████████████| 880/880 [00:07<00:00, 114.89it/s]\n",
      "write     : 100%|█████████████████████████████████████████████████| 496/496 [05:22<00:00,  1.54it/s]"
     ]
    },
    {
     "name": "stdout",
     "output_type": "stream",
     "text": [
      "[I 2020-01-08 03:35:11 meshflow] time elapsed (s): 690.14\n",
      "\n",
      "[I 2020-01-08 03:35:11 meshflow] ../data\\simple.avi\n"
     ]
    },
    {
     "name": "stderr",
     "output_type": "stream",
     "text": [
      "\n",
      "read      :  99%|████████████████████████████████████████████████▋| 446/449 [02:08<00:00,  3.46it/s]\n",
      "optimize  : 100%|████████████████████████████████████████████████| 880/880 [00:07<00:00, 116.21it/s]\n",
      "optimize  : 100%|████████████████████████████████████████████████| 880/880 [00:07<00:00, 116.37it/s]\n",
      "write     : 100%|████████████████████████████████████████████████▊| 447/449 [04:50<00:01,  1.54it/s]"
     ]
    },
    {
     "name": "stdout",
     "output_type": "stream",
     "text": [
      "[I 2020-01-08 03:42:25 meshflow] time elapsed (s): 434.18\n",
      "\n",
      "[I 2020-01-08 03:42:25 meshflow] ../data\\small-shaky-5.avi\n"
     ]
    },
    {
     "name": "stderr",
     "output_type": "stream",
     "text": [
      "\n",
      "read      : 100%|████████████████████████████████████████████████▊| 209/210 [00:19<00:00, 10.53it/s]\n",
      "optimize  : 100%|████████████████████████████████████████████████| 220/220 [00:01<00:00, 124.63it/s]\n",
      "optimize  : 100%|████████████████████████████████████████████████| 220/220 [00:01<00:00, 124.28it/s]\n",
      "write     : 100%|█████████████████████████████████████████████████| 210/210 [00:31<00:00,  6.57it/s]"
     ]
    },
    {
     "name": "stdout",
     "output_type": "stream",
     "text": [
      "[I 2020-01-08 03:43:21 meshflow] time elapsed (s): 55.39\n",
      "\n"
     ]
    },
    {
     "name": "stderr",
     "output_type": "stream",
     "text": [
      "\n"
     ]
    }
   ],
   "source": [
    "dir_path = 'data'\n",
    "\n",
    "for name in os.listdir(dir_path):\n",
    "    args = parser.parse_args([\n",
    "        osp.join(dir_path, name),\n",
    "        \"result/offline-slow/\",\n",
    "        \"--slow\"\n",
    "    ])\n",
    "    main(args)\n",
    "    \n",
    "    print()"
   ]
  },
  {
   "cell_type": "markdown",
   "metadata": {},
   "source": [
    "### Improved Method"
   ]
  },
  {
   "cell_type": "code",
   "execution_count": 7,
   "metadata": {},
   "outputs": [
    {
     "name": "stdout",
     "output_type": "stream",
     "text": [
      "[I 2020-01-08 03:43:21 meshflow] ../data\\parallax.avi\n"
     ]
    },
    {
     "name": "stderr",
     "output_type": "stream",
     "text": [
      "read      : 100%|████████████████████████████████████████████████▉| 524/525 [00:29<00:00, 17.73it/s]\n",
      "optimize  : 100%|████████████████████████████████████████████████| 880/880 [00:07<00:00, 112.49it/s]\n",
      "optimize  : 100%|████████████████████████████████████████████████| 880/880 [00:07<00:00, 112.29it/s]\n",
      "write     : 100%|█████████████████████████████████████████████████| 525/525 [00:26<00:00, 19.72it/s]"
     ]
    },
    {
     "name": "stdout",
     "output_type": "stream",
     "text": [
      "[I 2020-01-08 03:44:33 meshflow] time elapsed (s): 71.90\n",
      "\n",
      "[I 2020-01-08 03:44:33 meshflow] ../data\\running.avi\n"
     ]
    },
    {
     "name": "stderr",
     "output_type": "stream",
     "text": [
      "\n",
      "read      :  99%|████████████████████████████████████████████████▋| 446/449 [00:22<00:00, 20.11it/s]\n",
      "optimize  : 100%|████████████████████████████████████████████████| 880/880 [00:07<00:00, 115.78it/s]\n",
      "optimize  : 100%|████████████████████████████████████████████████| 880/880 [00:07<00:00, 116.13it/s]\n",
      "write     : 100%|████████████████████████████████████████████████▊| 447/449 [00:22<00:00, 19.49it/s]"
     ]
    },
    {
     "name": "stdout",
     "output_type": "stream",
     "text": [
      "[I 2020-01-08 03:45:33 meshflow] time elapsed (s): 60.35\n",
      "\n",
      "[I 2020-01-08 03:45:33 meshflow] ../data\\sample.avi\n"
     ]
    },
    {
     "name": "stderr",
     "output_type": "stream",
     "text": [
      "\n",
      "read      :  99%|████████████████████████████████████████████████▋| 398/401 [00:11<00:00, 35.41it/s]\n",
      "optimize  : 100%|████████████████████████████████████████████████| 880/880 [00:07<00:00, 117.47it/s]\n",
      "optimize  : 100%|████████████████████████████████████████████████| 880/880 [00:07<00:00, 116.82it/s]\n",
      "write     : 100%|████████████████████████████████████████████████▊| 399/401 [00:19<00:00, 19.96it/s]"
     ]
    },
    {
     "name": "stdout",
     "output_type": "stream",
     "text": [
      "[I 2020-01-08 03:46:19 meshflow] time elapsed (s): 46.30\n",
      "\n",
      "[I 2020-01-08 03:46:19 meshflow] ../data\\selfie.mp4\n"
     ]
    },
    {
     "name": "stderr",
     "output_type": "stream",
     "text": [
      "\n",
      "read      :  92%|█████████████████████████████████████████████    | 159/173 [00:08<00:00, 18.57it/s]\n",
      "optimize  : 100%|██████████████████████████████████████████████| 1590/1590 [00:12<00:00, 124.73it/s]\n",
      "optimize  : 100%|██████████████████████████████████████████████| 1590/1590 [00:12<00:00, 124.86it/s]\n",
      "write     :  92%|█████████████████████████████████████████████▎   | 160/173 [00:15<00:01, 10.51it/s]"
     ]
    },
    {
     "name": "stdout",
     "output_type": "stream",
     "text": [
      "[I 2020-01-08 03:47:09 meshflow] time elapsed (s): 49.31\n",
      "\n",
      "[I 2020-01-08 03:47:09 meshflow] ../data\\shaky-5.avi\n"
     ]
    },
    {
     "name": "stderr",
     "output_type": "stream",
     "text": [
      "\n",
      "read      : 100%|████████████████████████████████████████████████▉| 495/496 [00:20<00:00, 23.74it/s]\n",
      "optimize  : 100%|████████████████████████████████████████████████| 880/880 [00:07<00:00, 114.65it/s]\n",
      "optimize  : 100%|████████████████████████████████████████████████| 880/880 [00:07<00:00, 114.74it/s]\n",
      "write     : 100%|█████████████████████████████████████████████████| 496/496 [00:24<00:00, 20.06it/s]"
     ]
    },
    {
     "name": "stdout",
     "output_type": "stream",
     "text": [
      "[I 2020-01-08 03:48:10 meshflow] time elapsed (s): 60.96\n",
      "\n",
      "[I 2020-01-08 03:48:10 meshflow] ../data\\simple.avi\n"
     ]
    },
    {
     "name": "stderr",
     "output_type": "stream",
     "text": [
      "\n",
      "read      :  99%|████████████████████████████████████████████████▋| 446/449 [00:10<00:00, 41.99it/s]\n",
      "optimize  : 100%|████████████████████████████████████████████████| 880/880 [00:07<00:00, 116.24it/s]\n",
      "optimize  : 100%|████████████████████████████████████████████████| 880/880 [00:07<00:00, 116.13it/s]\n",
      "write     : 100%|████████████████████████████████████████████████▊| 447/449 [00:22<00:00, 19.97it/s]"
     ]
    },
    {
     "name": "stdout",
     "output_type": "stream",
     "text": [
      "[I 2020-01-08 03:48:58 meshflow] time elapsed (s): 48.20\n",
      "\n",
      "[I 2020-01-08 03:48:58 meshflow] ../data\\small-shaky-5.avi\n"
     ]
    },
    {
     "name": "stderr",
     "output_type": "stream",
     "text": [
      "\n",
      "read      : 100%|███████████████████████████████████████████████▊| 209/210 [00:01<00:00, 131.96it/s]\n",
      "optimize  : 100%|████████████████████████████████████████████████| 220/220 [00:01<00:00, 124.77it/s]\n",
      "optimize  : 100%|████████████████████████████████████████████████| 220/220 [00:01<00:00, 123.86it/s]\n",
      "write     : 100%|█████████████████████████████████████████████████| 210/210 [00:02<00:00, 84.60it/s]"
     ]
    },
    {
     "name": "stdout",
     "output_type": "stream",
     "text": [
      "[I 2020-01-08 03:49:05 meshflow] time elapsed (s): 7.63\n",
      "\n"
     ]
    },
    {
     "name": "stderr",
     "output_type": "stream",
     "text": [
      "\n"
     ]
    }
   ],
   "source": [
    "dir_path = 'data'\n",
    "\n",
    "for name in os.listdir(dir_path):\n",
    "    args = parser.parse_args([\n",
    "        osp.join(dir_path, name),\n",
    "        \"result/offline-fast/\",\n",
    "    ])\n",
    "    main(args)\n",
    "    \n",
    "    print()"
   ]
  }
 ],
 "metadata": {
  "kernelspec": {
   "display_name": "Python 3",
   "language": "python",
   "name": "python3"
  },
  "language_info": {
   "codemirror_mode": {
    "name": "ipython",
    "version": 3
   },
   "file_extension": ".py",
   "mimetype": "text/x-python",
   "name": "python",
   "nbconvert_exporter": "python",
   "pygments_lexer": "ipython3",
   "version": "3.7.4"
  },
  "pycharm": {
   "stem_cell": {
    "cell_type": "raw",
    "metadata": {
     "collapsed": false
    },
    "source": []
   }
  }
 },
 "nbformat": 4,
 "nbformat_minor": 4
}
